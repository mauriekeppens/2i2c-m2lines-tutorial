{
 "cells": [
  {
   "cell_type": "code",
   "execution_count": 2,
   "id": "46a970a4-6e91-430a-b313-f73f7a84a2d2",
   "metadata": {},
   "outputs": [],
   "source": [
    "!git config user.name \"mauriekeppens\"\n",
    "!git config user.email \"keppens_maurie@hotmail.com\"\n"
   ]
  }
 ],
 "metadata": {
  "kernelspec": {
   "display_name": "Python 3 (ipykernel)",
   "language": "python",
   "name": "python3"
  },
  "language_info": {
   "codemirror_mode": {
    "name": "ipython",
    "version": 3
   },
   "file_extension": ".py",
   "mimetype": "text/x-python",
   "name": "python",
   "nbconvert_exporter": "python",
   "pygments_lexer": "ipython3",
   "version": "3.12.11"
  }
 },
 "nbformat": 4,
 "nbformat_minor": 5
}
